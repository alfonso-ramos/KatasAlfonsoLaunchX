{
 "cells": [
  {
   "cell_type": "markdown",
   "metadata": {},
   "source": [
    "# Ejercicio - Crear un paquete\n",
    "\n",
    "Esta kata se realizo en la terminal y para demostrar que se realizo, se tomaron capturas y se realizo un PDF con las imagenes y el paso a paso de esta kata.\n",
    "\n",
    "Adjunto enlace del doumento en PDF\n",
    "\n",
    "https://innovaccion-my.sharepoint.com/:b:/g/personal/launchx03276_innovaccion_mx/ESI7-9nmQt1EkFeUVQ38e6oBJPA2xm833v_ITuUPgdwltg?e=XGN4fQ"
   ]
  }
 ],
 "metadata": {
  "language_info": {
   "name": "python"
  },
  "orig_nbformat": 4
 },
 "nbformat": 4,
 "nbformat_minor": 2
}
