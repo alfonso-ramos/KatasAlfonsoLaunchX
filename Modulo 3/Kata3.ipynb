{
 "cells": [
  {
   "cell_type": "markdown",
   "metadata": {},
   "source": [
    "# Advertencia de asteroide\n",
    "\n",
    "Para este ejercicio, escribirás una lógica condicional que imprima una advertencia si un asteroide se acerca a la Tierra demasiado rápido. La velocidad del asteroide varía dependiendo de lo cerca que esté del sol, y cualquier velocidad superior a 25 kilómetros por segundo (km/s) merece una advertencia.\n",
    "\n",
    "Un asteroide se acerca, y viaja a una velocidad de 49 km/s.\n",
    "\n",
    "Si un asteroide entra en la atmósfera de la Tierra a una velocidad mayor o igual a 20 km/s, a veces produce un rayo de luz que se puede ver desde la Tierra. Escribe la lógica condicional que usa declaraciones if, else, y elif para alertar a las personas de todo el mundo que deben buscar un asteroide en el cielo."
   ]
  },
  {
   "cell_type": "code",
   "execution_count": 12,
   "metadata": {},
   "outputs": [
    {
     "name": "stdout",
     "output_type": "stream",
     "text": [
      "Se acerca un asteroide, tome sus precauciones\n"
     ]
    }
   ],
   "source": [
    "vel_Asteroide = 49\n",
    "\n",
    "if vel_Asteroide >= 25:\n",
    "    print(\"Se acerca un asteroide, tome sus precauciones\")\n",
    "elif vel_Asteroide >= 20 :\n",
    "    print('Asteroide a la vista, puede ser que lo veas desde la ventana')\n",
    "else:\n",
    "    print(\"Estamos a salvo, hoy no caera un asteroide, tengan un buen dia 😁\")"
   ]
  },
  {
   "cell_type": "markdown",
   "metadata": {},
   "source": [
    "# Uso de operadores and y or"
   ]
  },
  {
   "cell_type": "code",
   "execution_count": 20,
   "metadata": {},
   "outputs": [
    {
     "name": "stdout",
     "output_type": "stream",
     "text": [
      "Se acerca un asteroide, Riesgo: Alto \n"
     ]
    }
   ],
   "source": [
    "\n",
    "vel_Asteroide = 25\n",
    "tamaño_asteroide = 40\n",
    "peligroso = tamaño_asteroide >= 25 and tamaño_asteroide <=1000\n",
    "\n",
    "\n",
    "if vel_Asteroide >= 25 and peligroso:\n",
    "    print(\"Se acerca un asteroide, Riesgo: Alto \")\n",
    "elif vel_Asteroide >= 25 and peligroso == False:\n",
    "    print('Se acerca un asteroide, Riesgo: Bajo ')\n",
    "\n",
    "elif vel_Asteroide >= 20:\n",
    "    print('Asteroide a la vista, puede ser que lo veas desde la ventana')\n",
    "else:\n",
    "    print(\"Estamos a salvo, hoy no caera un asteroide, tengan un buen dia 😁\")\n"
   ]
  }
 ],
 "metadata": {
  "interpreter": {
   "hash": "916dbcbb3f70747c44a77c7bcd40155683ae19c65e1c03b4aa3499c5328201f1"
  },
  "kernelspec": {
   "display_name": "Python 3.8.10 64-bit",
   "language": "python",
   "name": "python3"
  },
  "language_info": {
   "codemirror_mode": {
    "name": "ipython",
    "version": 3
   },
   "file_extension": ".py",
   "mimetype": "text/x-python",
   "name": "python",
   "nbconvert_exporter": "python",
   "pygments_lexer": "ipython3",
   "version": "3.8.10"
  },
  "orig_nbformat": 4
 },
 "nbformat": 4,
 "nbformat_minor": 2
}
